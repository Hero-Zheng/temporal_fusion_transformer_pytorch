{
 "cells": [
  {
   "cell_type": "code",
   "execution_count": 3,
   "metadata": {},
   "outputs": [
    {
     "name": "stdout",
     "output_type": "stream",
     "text": [
      "torch.Size([2, 4])\n",
      "tensor([[-0.6602, -0.2000, -0.7404,  0.4162],\n",
      "        [-1.1267, -1.1360,  1.2097,  0.3960]])\n",
      "torch.Size([2, 2, 2])\n",
      "tensor([[[-0.6602, -0.2000],\n",
      "         [-0.7404,  0.4162]],\n",
      "\n",
      "        [[-1.1267, -1.1360],\n",
      "         [ 1.2097,  0.3960]]])\n"
     ]
    }
   ],
   "source": [
    "import torch\n",
    "\n",
    "A = torch.randn(2,4)\n",
    "print(A.shape)\n",
    "print(A)\n",
    "\n",
    "B = A.view(2, 2, 2)\n",
    "print(B.shape)\n",
    "print(B)"
   ]
  },
  {
   "cell_type": "code",
   "execution_count": 4,
   "metadata": {},
   "outputs": [
    {
     "name": "stdout",
     "output_type": "stream",
     "text": [
      "tensor([[-1.3204, -0.4000, -1.4807,  0.8324],\n",
      "        [-2.2534, -2.2721,  2.4193,  0.7920]])\n"
     ]
    }
   ],
   "source": [
    "C = A + A\n",
    "print(C)"
   ]
  },
  {
   "cell_type": "code",
   "execution_count": 5,
   "metadata": {},
   "outputs": [
    {
     "name": "stdout",
     "output_type": "stream",
     "text": [
      "[1, 2, 3, 4, 5, 6]\n"
     ]
    }
   ],
   "source": [
    "a = [1,2,3]\n",
    "b = [4,5,6]\n",
    "print(a + b)"
   ]
  }
 ],
 "metadata": {
  "kernelspec": {
   "display_name": "py37",
   "language": "python",
   "name": "python3"
  },
  "language_info": {
   "codemirror_mode": {
    "name": "ipython",
    "version": 3
   },
   "file_extension": ".py",
   "mimetype": "text/x-python",
   "name": "python",
   "nbconvert_exporter": "python",
   "pygments_lexer": "ipython3",
   "version": "3.10.14"
  }
 },
 "nbformat": 4,
 "nbformat_minor": 2
}
